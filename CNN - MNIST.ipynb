{
 "cells": [
  {
   "cell_type": "code",
   "execution_count": 180,
   "metadata": {},
   "outputs": [],
   "source": [
    "import keras\n",
    "from keras.optimizers import RMSprop\n",
    "from keras.utils import to_categorical\n",
    "from keras.models import Sequential, Model\n",
    "from keras.layers import Conv2D, MaxPooling2D, Flatten, Dense, Dropout, Input\n",
    "from keras.callbacks import ModelCheckpoint \n",
    "from sklearn.preprocessing import MinMaxScaler\n",
    "from sklearn.model_selection import train_test_split\n",
    "import numpy as np\n",
    "import pandas as pd\n",
    "import cv2\n",
    "import matplotlib.pylab as plt\n",
    "%matplotlib inline"
   ]
  },
  {
   "cell_type": "markdown",
   "metadata": {},
   "source": [
    "# Load data "
   ]
  },
  {
   "cell_type": "code",
   "execution_count": 281,
   "metadata": {
    "collapsed": true
   },
   "outputs": [],
   "source": [
    "with open(\"train.csv\", 'r') as f:\n",
    "    df_train = pd.read_csv(f)\n",
    "    \n",
    "with open(\"test.csv\", 'r') as f:\n",
    "    df_test = pd.read_csv(f)"
   ]
  },
  {
   "cell_type": "code",
   "execution_count": 282,
   "metadata": {},
   "outputs": [],
   "source": [
    "df_train_label = df_train.iloc[:,0]\n",
    "df_train_image = df_train.iloc[:,1:]\n",
    "\n",
    "df_test_label = df_test.iloc[:,0]\n",
    "df_test_image = df_test.iloc[:,1:]"
   ]
  },
  {
   "cell_type": "code",
   "execution_count": 283,
   "metadata": {},
   "outputs": [],
   "source": [
    "df_train_label = df_train_label.as_matrix()\n",
    "df_train_image = df_train_image.as_matrix().reshape(df_train_image.shape[0], 28, 28, 1)\n",
    "\n",
    "df_test_label = df_test_label.as_matrix()\n",
    "df_test_image = df_test.as_matrix().reshape(df_test.shape[0], 28, 28, 1)"
   ]
  },
  {
   "cell_type": "markdown",
   "metadata": {},
   "source": [
    "# Later tranform the images i.e. stretch and/or rotate a little bit "
   ]
  },
  {
   "cell_type": "markdown",
   "metadata": {},
   "source": [
    "# Visualize some random numbers from the datasets"
   ]
  },
  {
   "cell_type": "code",
   "execution_count": 82,
   "metadata": {
    "scrolled": false
   },
   "outputs": [
    {
     "data": {
      "image/png": "[encoded data removed]",
      "text/plain": [
       "<matplotlib.figure.Figure at 0x693babb2b0>"
      ]
     },
     "metadata": {},
     "output_type": "display_data"
    }
   ],
   "source": [
    "plt.figure(figsize = (15,5))\n",
    "for i in range(24):\n",
    "    plt.subplot(3,8,i+1)\n",
    "    j = np.random.randint(0, len(df_train_image))\n",
    "    plt.imshow(df_train_image[j].reshape(28,28), cmap='afmhot')"
   ]
  },
  {
   "cell_type": "markdown",
   "metadata": {},
   "source": [
    "# Normalization\n",
    "### Might be also changed to other normalization methods in order to see if it affects the prediction"
   ]
  },
  {
   "cell_type": "code",
   "execution_count": 284,
   "metadata": {},
   "outputs": [],
   "source": [
    "# features normalisation\n",
    "def normalize_grayscale(image_data):\n",
    "    # Normalize the image data with Min-Max scaling to a range of [0.1, 0.9]\n",
    "    # you may also want to try to scale to [-1, 1] or just use keras Batchnormalisation layer\n",
    "    return (image_data) / 255\n",
    "train_features = normalize_grayscale(df_train_image)\n",
    "test_features = normalize_grayscale(df_test_image)"
   ]
  },
  {
   "cell_type": "code",
   "execution_count": 285,
   "metadata": {},
   "outputs": [
    {
     "name": "stdout",
     "output_type": "stream",
     "text": [
      "Shape of validation set: (6300, 28, 28, 1)\n",
      "Shape of train set: (35700, 28, 28, 1)\n",
      "Shape of test set: (28000, 28, 28, 1)\n",
      "(35700, 10)\n"
     ]
    }
   ],
   "source": [
    "#OneHotEncode labels\n",
    "df_train_label = to_categorical(df_train_label)\n",
    "df_test_label = to_categorical(df_test_label)\n",
    "\n",
    "#Split dataset into train and validation \n",
    "X_train, X_val, y_train, y_val = train_test_split(train_features, df_train_label, test_size = 0.15, random_state=2)\n",
    "\n",
    "#Print shape\n",
    "print(\"Shape of validation set: {}\".format(X_val.shape))\n",
    "print(\"Shape of train set: {}\".format(X_train.shape))\n",
    "print(\"Shape of test set: {}\".format(df_test_image.shape))\n",
    "print(y_train.shape)"
   ]
  },
  {
   "cell_type": "markdown",
   "metadata": {},
   "source": [
    "# Image augmentation"
   ]
  },
  {
   "cell_type": "code",
   "execution_count": 286,
   "metadata": {},
   "outputs": [],
   "source": [
    "from keras.preprocessing.image import ImageDataGenerator\n",
    "\n",
    "datagen_train = ImageDataGenerator(\n",
    "    width_shift_range=0.12,\n",
    "    height_shift_range=0.12,\n",
    "    rotation_range=0.12,\n",
    "    zoom_range = 0.11)\n",
    "\n",
    "datagen_valid = ImageDataGenerator(\n",
    "    width_shift_range=0.12,\n",
    "    height_shift_range=0.12,\n",
    "    rotation_range=10,\n",
    "    zoom_range = 0.11)\n",
    "\n",
    "datagen_train.fit(X_train)\n",
    "datagen_valid.fit(X_val)"
   ]
  },
  {
   "cell_type": "markdown",
   "metadata": {},
   "source": [
    "# Build the CNN"
   ]
  },
  {
   "cell_type": "code",
   "execution_count": 287,
   "metadata": {
    "scrolled": true
   },
   "outputs": [],
   "source": [
    "def get_model(input_shape):\n",
    "    \n",
    "    drop = 0.3\n",
    "    \n",
    "    X_input = Input(input_shape)\n",
    "    \n",
    "    X = Conv2D(64, (5,5), strides=(1,1), activation='relu', padding='same',\n",
    "               kernel_initializer='glorot_normal')(X_input)\n",
    "    \n",
    "    X = Conv2D(64, (5,5), strides=(1,1), activation='relu', padding='same',\n",
    "               kernel_initializer='glorot_normal')(X_input)\n",
    "    \n",
    "    X = MaxPooling2D(pool_size=(2,2))(X)\n",
    "    \n",
    "    X = Conv2D(128, (3,3), strides=(1,1), activation='relu', padding='same',\n",
    "              kernel_initializer='glorot_normal')(X)\n",
    "    \n",
    "    X = Conv2D(128, (3,3), strides=(1,1), activation='relu', padding='same',\n",
    "              kernel_initializer='glorot_normal')(X)\n",
    "    \n",
    "    X = MaxPooling2D(pool_size = (2,2))(X)\n",
    "    \n",
    "    X = Flatten()(X)\n",
    "    \n",
    "    X = Dense(256, activation='relu')(X)\n",
    "    X = Dropout(drop)(X)\n",
    "    \n",
    "    X = Dense(32, activation='relu')(X)\n",
    "    X = Dropout(drop)(X)\n",
    "    \n",
    "    X = Dense(10, activation='softmax')(X)\n",
    "    \n",
    "    model = Model(inputs=[X_input], outputs=[X])\n",
    "    \n",
    "    return model"
   ]
  },
  {
   "cell_type": "code",
   "execution_count": 288,
   "metadata": {},
   "outputs": [],
   "source": [
    "from keras.optimizers import Nadam\n",
    "#opt = Nadam(lr=0.001)\n",
    "opt = RMSprop(lr=0.001, rho=0.9, epsilon=1e-08, decay=0.0)"
   ]
  },
  {
   "cell_type": "markdown",
   "metadata": {},
   "source": [
    "# Compile the model"
   ]
  },
  {
   "cell_type": "code",
   "execution_count": 289,
   "metadata": {},
   "outputs": [
    {
     "name": "stdout",
     "output_type": "stream",
     "text": [
      "_________________________________________________________________\n",
      "Layer (type)                 Output Shape              Param #   \n",
      "=================================================================\n",
      "input_17 (InputLayer)        (None, 28, 28, 1)         0         \n",
      "_________________________________________________________________\n",
      "conv2d_65 (Conv2D)           (None, 28, 28, 64)        1664      \n",
      "_________________________________________________________________\n",
      "max_pooling2d_58 (MaxPooling (None, 14, 14, 64)        0         \n",
      "_________________________________________________________________\n",
      "conv2d_66 (Conv2D)           (None, 14, 14, 128)       73856     \n",
      "_________________________________________________________________\n",
      "conv2d_67 (Conv2D)           (None, 14, 14, 128)       147584    \n",
      "_________________________________________________________________\n",
      "max_pooling2d_59 (MaxPooling (None, 7, 7, 128)         0         \n",
      "_________________________________________________________________\n",
      "flatten_19 (Flatten)         (None, 6272)              0         \n",
      "_________________________________________________________________\n",
      "dense_50 (Dense)             (None, 256)               1605888   \n",
      "_________________________________________________________________\n",
      "dropout_38 (Dropout)         (None, 256)               0         \n",
      "_________________________________________________________________\n",
      "dense_51 (Dense)             (None, 32)                8224      \n",
      "_________________________________________________________________\n",
      "dropout_39 (Dropout)         (None, 32)                0         \n",
      "_________________________________________________________________\n",
      "dense_52 (Dense)             (None, 10)                330       \n",
      "=================================================================\n",
      "Total params: 1,837,546\n",
      "Trainable params: 1,837,546\n",
      "Non-trainable params: 0\n",
      "_________________________________________________________________\n"
     ]
    }
   ],
   "source": [
    "model = get_model((28, 28, 1))\n",
    "# compile the model\n",
    "model.compile(optimizer=opt,\n",
    "              loss='categorical_crossentropy',\n",
    "              metrics=['accuracy'])\n",
    "\n",
    "model.summary()"
   ]
  },
  {
   "cell_type": "markdown",
   "metadata": {},
   "source": [
    "# Train the model"
   ]
  },
  {
   "cell_type": "code",
   "execution_count": 290,
   "metadata": {},
   "outputs": [
    {
     "name": "stdout",
     "output_type": "stream",
     "text": [
      "Epoch 1/15\n",
      "Epoch 00001: val_loss improved from inf to 0.16819, saving model to model.weights.new.hdf5\n",
      " - 401s - loss: 0.5979 - acc: 0.8112 - val_loss: 0.1682 - val_acc: 0.9530\n",
      "Epoch 2/15\n",
      "Epoch 00002: val_loss improved from 0.16819 to 0.13803, saving model to model.weights.new.hdf5\n",
      " - 420s - loss: 0.1976 - acc: 0.9483 - val_loss: 0.1380 - val_acc: 0.9636\n",
      "Epoch 3/15\n",
      "Epoch 00003: val_loss did not improve\n",
      " - 396s - loss: 0.1642 - acc: 0.9584 - val_loss: 0.1385 - val_acc: 0.9667\n",
      "Epoch 4/15\n",
      "Epoch 00004: val_loss did not improve\n",
      " - 389s - loss: 0.1516 - acc: 0.9631 - val_loss: 0.1398 - val_acc: 0.9646\n",
      "Epoch 5/15\n",
      "Epoch 00005: val_loss improved from 0.13803 to 0.12499, saving model to model.weights.new.hdf5\n",
      " - 391s - loss: 0.1622 - acc: 0.9633 - val_loss: 0.1250 - val_acc: 0.9640\n",
      "Epoch 6/15\n",
      "Epoch 00006: val_loss did not improve\n",
      " - 389s - loss: 0.1545 - acc: 0.9649 - val_loss: 0.1387 - val_acc: 0.9657\n",
      "Epoch 7/15\n",
      "Epoch 00007: val_loss improved from 0.12499 to 0.11334, saving model to model.weights.new.hdf5\n",
      " - 390s - loss: 0.1694 - acc: 0.9615 - val_loss: 0.1133 - val_acc: 0.9737\n",
      "Epoch 8/15\n",
      "Epoch 00008: val_loss did not improve\n",
      " - 435s - loss: 0.1962 - acc: 0.9591 - val_loss: 0.2026 - val_acc: 0.9466\n",
      "Epoch 9/15\n",
      "Epoch 00009: val_loss did not improve\n",
      " - 420s - loss: 0.2046 - acc: 0.9588 - val_loss: 0.1379 - val_acc: 0.9664\n",
      "Epoch 10/15\n",
      "Epoch 00010: val_loss did not improve\n",
      " - 419s - loss: 0.2051 - acc: 0.9586 - val_loss: 0.1699 - val_acc: 0.9686\n",
      "Epoch 11/15\n",
      "Epoch 00011: val_loss did not improve\n",
      " - 420s - loss: 0.2206 - acc: 0.9577 - val_loss: 0.1438 - val_acc: 0.9710\n",
      "Epoch 12/15\n",
      "Epoch 00012: val_loss did not improve\n",
      " - 426s - loss: 0.2236 - acc: 0.9580 - val_loss: 0.1428 - val_acc: 0.9657\n",
      "Epoch 13/15\n",
      "Epoch 00013: val_loss did not improve\n",
      " - 398s - loss: 0.2356 - acc: 0.9574 - val_loss: 0.2720 - val_acc: 0.9421\n",
      "Epoch 14/15\n",
      "Epoch 00014: val_loss did not improve\n",
      " - 399s - loss: 0.2339 - acc: 0.9560 - val_loss: 0.1203 - val_acc: 0.9737\n",
      "Epoch 15/15\n",
      "Epoch 00015: val_loss did not improve\n",
      " - 400s - loss: 0.2510 - acc: 0.9566 - val_loss: 0.2430 - val_acc: 0.9461\n"
     ]
    },
    {
     "data": {
      "text/plain": [
       "<keras.callbacks.History at 0x690a17b9e8>"
      ]
     },
     "execution_count": 290,
     "metadata": {},
     "output_type": "execute_result"
    }
   ],
   "source": [
    "# train the model\n",
    "batch_size = 64\n",
    "epochs = 15\n",
    "\n",
    "checkpointer = ModelCheckpoint(filepath='model.weights.new.hdf5', verbose=1, \n",
    "                               save_best_only=True)\n",
    "model.fit_generator(datagen_train.flow(X_train, y_train, batch_size), \n",
    "                    steps_per_epoch=X_train.shape[0] // batch_size,\n",
    "                    epochs=epochs, callbacks = [checkpointer],\n",
    "                    validation_data=datagen_valid.flow(X_val, y_val,batch_size),\n",
    "                    validation_steps=X_val.shape[0] // batch_size, \n",
    "                    verbose=2, shuffle=True)"
   ]
  },
  {
   "cell_type": "code",
   "execution_count": 291,
   "metadata": {},
   "outputs": [],
   "source": [
    "# load the weights that yielded the best validation accuracy\n",
    "model.load_weights('model.weights.new.hdf5')"
   ]
  },
  {
   "cell_type": "code",
   "execution_count": 292,
   "metadata": {},
   "outputs": [
    {
     "name": "stdout",
     "output_type": "stream",
     "text": [
      "28000/28000 [==============================] - 95s 3ms/step\n"
     ]
    }
   ],
   "source": [
    "# evaluate and print test accuracy\n",
    "pred = model.predict(test_features, batch_size=64, verbose=1)\n",
    "pred_digits = np.argmax(pred, axis=1)"
   ]
  },
  {
   "cell_type": "code",
   "execution_count": 293,
   "metadata": {},
   "outputs": [],
   "source": [
    "import datetime\n",
    "today = str(datetime.datetime.now().strftime(\"%Y-%B-%d-%H-%M\"))\n",
    "submission = pd.DataFrame({'Label': pred_digits})\n",
    "submission.index += 1\n",
    "submission.index.name = \"ImageId\"\n",
    "submission.to_csv('submission'+ today + '.csv')"
   ]
  },
  {
   "cell_type": "code",
   "execution_count": 238,
   "metadata": {},
   "outputs": [],
   "source": [
    "y = np.append(y_train, to_categorical(pred_digits), 0)\n",
    "X = np.append(X_train, test_features,0)"
   ]
  },
  {
   "cell_type": "code",
   "execution_count": 240,
   "metadata": {},
   "outputs": [
    {
     "name": "stdout",
     "output_type": "stream",
     "text": [
      "Epoch 1/30\n",
      "Epoch 00001: val_loss improved from inf to 0.46744, saving model to model.weights.rmsle.best_merge.hdf5\n",
      " - 154s - loss: 0.4929 - acc: 0.9129 - val_loss: 0.4674 - val_acc: 0.9405\n",
      "Epoch 2/30\n",
      "Epoch 00002: val_loss improved from 0.46744 to 0.46046, saving model to model.weights.rmsle.best_merge.hdf5\n",
      " - 148s - loss: 0.5450 - acc: 0.9032 - val_loss: 0.4605 - val_acc: 0.9225\n",
      "Epoch 3/30\n",
      "Epoch 00003: val_loss did not improve\n",
      " - 161s - loss: 0.5595 - acc: 0.9045 - val_loss: 0.5798 - val_acc: 0.8798\n",
      "Epoch 4/30\n",
      "Epoch 00004: val_loss did not improve\n",
      " - 150s - loss: 0.5897 - acc: 0.8996 - val_loss: 0.4998 - val_acc: 0.9305\n",
      "Epoch 5/30\n",
      "Epoch 00005: val_loss did not improve\n",
      " - 150s - loss: 0.5930 - acc: 0.8998 - val_loss: 0.5578 - val_acc: 0.9224\n",
      "Epoch 6/30\n",
      "Epoch 00006: val_loss improved from 0.46046 to 0.37383, saving model to model.weights.rmsle.best_merge.hdf5\n",
      " - 148s - loss: 0.6453 - acc: 0.8981 - val_loss: 0.3738 - val_acc: 0.9318\n",
      "Epoch 7/30\n",
      "Epoch 00007: val_loss did not improve\n",
      " - 153s - loss: 0.6651 - acc: 0.8928 - val_loss: 0.4502 - val_acc: 0.9241\n",
      "Epoch 8/30\n",
      "Epoch 00008: val_loss did not improve\n",
      " - 147s - loss: 0.6361 - acc: 0.8934 - val_loss: 0.6466 - val_acc: 0.9235\n",
      "Epoch 9/30\n",
      "Epoch 00009: val_loss did not improve\n",
      " - 149s - loss: 0.7030 - acc: 0.8924 - val_loss: 0.4437 - val_acc: 0.9230\n",
      "Epoch 10/30\n",
      "Epoch 00010: val_loss did not improve\n",
      " - 147s - loss: 0.6441 - acc: 0.8935 - val_loss: 0.4278 - val_acc: 0.9455\n",
      "Epoch 11/30\n",
      "Epoch 00011: val_loss did not improve\n",
      " - 172s - loss: 0.7360 - acc: 0.8933 - val_loss: 0.4825 - val_acc: 0.9048\n",
      "Epoch 12/30\n",
      "Epoch 00012: val_loss did not improve\n",
      " - 156s - loss: 0.7453 - acc: 0.8831 - val_loss: 0.6797 - val_acc: 0.8831\n",
      "Epoch 13/30\n",
      "Epoch 00013: val_loss did not improve\n",
      " - 168s - loss: 0.7585 - acc: 0.8871 - val_loss: 0.5763 - val_acc: 0.9176\n",
      "Epoch 14/30\n",
      "Epoch 00014: val_loss did not improve\n",
      " - 163s - loss: 0.8112 - acc: 0.8770 - val_loss: 1.0425 - val_acc: 0.8788\n",
      "Epoch 15/30\n",
      "Epoch 00015: val_loss did not improve\n",
      " - 152s - loss: 0.7983 - acc: 0.8862 - val_loss: 0.7123 - val_acc: 0.9257\n",
      "Epoch 16/30\n",
      "Epoch 00016: val_loss did not improve\n",
      " - 157s - loss: 0.8014 - acc: 0.8864 - val_loss: 0.4795 - val_acc: 0.9361\n",
      "Epoch 17/30\n",
      "Epoch 00017: val_loss did not improve\n",
      " - 160s - loss: 0.8591 - acc: 0.8646 - val_loss: 0.7965 - val_acc: 0.7790\n",
      "Epoch 18/30\n",
      "Epoch 00018: val_loss did not improve\n",
      " - 159s - loss: 0.8611 - acc: 0.8588 - val_loss: 0.5191 - val_acc: 0.8723\n",
      "Epoch 19/30\n",
      "Epoch 00019: val_loss did not improve\n",
      " - 156s - loss: 0.8721 - acc: 0.8722 - val_loss: 0.5938 - val_acc: 0.9302\n",
      "Epoch 20/30\n",
      "Epoch 00020: val_loss did not improve\n",
      " - 164s - loss: 0.9133 - acc: 0.8477 - val_loss: 0.5533 - val_acc: 0.9139\n",
      "Epoch 21/30\n",
      "Epoch 00021: val_loss did not improve\n",
      " - 157s - loss: 0.9963 - acc: 0.8612 - val_loss: 0.9095 - val_acc: 0.9104\n",
      "Epoch 22/30\n",
      "Epoch 00022: val_loss did not improve\n",
      " - 147s - loss: 0.9381 - acc: 0.8450 - val_loss: 0.6319 - val_acc: 0.8664\n",
      "Epoch 23/30\n",
      "Epoch 00023: val_loss did not improve\n",
      " - 143s - loss: 1.0523 - acc: 0.8583 - val_loss: 0.6772 - val_acc: 0.9171\n",
      "Epoch 24/30\n",
      "Epoch 00024: val_loss did not improve\n",
      " - 144s - loss: 0.9388 - acc: 0.8386 - val_loss: 0.6387 - val_acc: 0.8952\n",
      "Epoch 25/30\n",
      "Epoch 00025: val_loss did not improve\n",
      " - 144s - loss: 1.0534 - acc: 0.8405 - val_loss: 0.7598 - val_acc: 0.9225\n",
      "Epoch 26/30\n",
      "Epoch 00026: val_loss did not improve\n",
      " - 143s - loss: 1.0326 - acc: 0.8277 - val_loss: 1.0205 - val_acc: 0.8273\n",
      "Epoch 27/30\n",
      "Epoch 00027: val_loss did not improve\n",
      " - 159s - loss: 1.1002 - acc: 0.8376 - val_loss: 0.9984 - val_acc: 0.8249\n",
      "Epoch 28/30\n",
      "Epoch 00028: val_loss did not improve\n",
      " - 146s - loss: 1.0968 - acc: 0.8172 - val_loss: 0.7059 - val_acc: 0.8538\n",
      "Epoch 29/30\n",
      "Epoch 00029: val_loss did not improve\n",
      " - 157s - loss: 1.0324 - acc: 0.8465 - val_loss: 1.0708 - val_acc: 0.6717\n",
      "Epoch 30/30\n",
      "Epoch 00030: val_loss did not improve\n",
      " - 142s - loss: 1.2366 - acc: 0.8084 - val_loss: 0.7220 - val_acc: 0.8461\n"
     ]
    },
    {
     "data": {
      "text/plain": [
       "<keras.callbacks.History at 0x690ebb7fd0>"
      ]
     },
     "execution_count": 240,
     "metadata": {},
     "output_type": "execute_result"
    }
   ],
   "source": [
    "# train the model\n",
    "batch_size = 64\n",
    "\n",
    "checkpointer = ModelCheckpoint(filepath='model.weights.rmsle.best_merge.hdf5', verbose=1, \n",
    "                               save_best_only=True)\n",
    "model.fit_generator(datagen_train.flow(X, y, batch_size), \n",
    "                    steps_per_epoch=X_train.shape[0] // batch_size,\n",
    "                    epochs=30, callbacks = [checkpointer],\n",
    "                    validation_data=datagen_valid.flow(X_val, y_val,batch_size),\n",
    "                    validation_steps=X_val.shape[0] // batch_size, \n",
    "                    verbose=2, shuffle=True)"
   ]
  }
 ],
 "metadata": {
  "kernelspec": {
   "display_name": "Python 3",
   "language": "python",
   "name": "python3"
  },
  "language_info": {
   "codemirror_mode": {
    "name": "ipython",
    "version": 3
   },
   "file_extension": ".py",
   "mimetype": "text/x-python",
   "name": "python",
   "nbconvert_exporter": "python",
   "pygments_lexer": "ipython3",
   "version": "3.6.2"
  }
 },
 "nbformat": 4,
 "nbformat_minor": 2
}
